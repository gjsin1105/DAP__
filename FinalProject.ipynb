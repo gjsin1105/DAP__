{
  "nbformat": 4,
  "nbformat_minor": 0,
  "metadata": {
    "colab": {
      "name": "FinalProject.ipynb",
      "provenance": [],
      "collapsed_sections": [],
      "authorship_tag": "ABX9TyMEfOW+Yw7rfE5Q7txAWTyZ",
      "include_colab_link": true
    },
    "kernelspec": {
      "name": "python3",
      "display_name": "Python 3"
    },
    "language_info": {
      "name": "python"
    }
  },
  "cells": [
    {
      "cell_type": "markdown",
      "metadata": {
        "id": "view-in-github",
        "colab_type": "text"
      },
      "source": [
        "<a href=\"https://colab.research.google.com/github/gjsin1105/DAP__/blob/main/FinalProject.ipynb\" target=\"_parent\"><img src=\"https://colab.research.google.com/assets/colab-badge.svg\" alt=\"Open In Colab\"/></a>"
      ]
    },
    {
      "cell_type": "markdown",
      "metadata": {
        "id": "d1M6BvNOSSja"
      },
      "source": [
        "## 2010년부터 2021년까지 스포츠의 종류에 따른 선수들의 수입 비교"
      ]
    },
    {
      "cell_type": "markdown",
      "metadata": {
        "id": "BO_HfH-ZOKsh"
      },
      "source": [
        ""
      ]
    },
    {
      "cell_type": "markdown",
      "metadata": {
        "id": "u5Tj86wi6ZIT"
      },
      "source": [
        "##Import Libraries"
      ]
    },
    {
      "cell_type": "code",
      "metadata": {
        "id": "UJOPhdZj0JnX"
      },
      "source": [
        "import numpy as np\n",
        "import pandas as pd\n",
        "import matplotlib.pyplot as plt\n",
        "import seaborn as sns"
      ],
      "execution_count": 4,
      "outputs": []
    },
    {
      "cell_type": "markdown",
      "metadata": {
        "id": "3aYIE8pmkp-7"
      },
      "source": [
        "##Get the Data\n",
        "각 스포츠별로 선수들의 수입을 저장한 데이터를 가져온다."
      ]
    },
    {
      "cell_type": "code",
      "metadata": {
        "colab": {
          "base_uri": "https://localhost:8080/",
          "height": 424
        },
        "id": "TMe9OUAv0KSM",
        "outputId": "66ba2c1b-6977-41d9-d340-5f606c0c509a"
      },
      "source": [
        "df = pd.read_csv('athlete/forbesathletesv2.csv')\n",
        "df"
      ],
      "execution_count": 5,
      "outputs": [
        {
          "output_type": "execute_result",
          "data": {
            "text/html": [
              "<div>\n",
              "<style scoped>\n",
              "    .dataframe tbody tr th:only-of-type {\n",
              "        vertical-align: middle;\n",
              "    }\n",
              "\n",
              "    .dataframe tbody tr th {\n",
              "        vertical-align: top;\n",
              "    }\n",
              "\n",
              "    .dataframe thead th {\n",
              "        text-align: right;\n",
              "    }\n",
              "</style>\n",
              "<table border=\"1\" class=\"dataframe\">\n",
              "  <thead>\n",
              "    <tr style=\"text-align: right;\">\n",
              "      <th></th>\n",
              "      <th>Name</th>\n",
              "      <th>Earnings</th>\n",
              "      <th>Year</th>\n",
              "      <th>Sport</th>\n",
              "    </tr>\n",
              "  </thead>\n",
              "  <tbody>\n",
              "    <tr>\n",
              "      <th>0</th>\n",
              "      <td>Conor McGregor</td>\n",
              "      <td>180.0</td>\n",
              "      <td>2021</td>\n",
              "      <td>Mixed Martial Arts</td>\n",
              "    </tr>\n",
              "    <tr>\n",
              "      <th>1</th>\n",
              "      <td>Lionel Messi</td>\n",
              "      <td>130.0</td>\n",
              "      <td>2021</td>\n",
              "      <td>Soccer</td>\n",
              "    </tr>\n",
              "    <tr>\n",
              "      <th>2</th>\n",
              "      <td>Cristiano Ronaldo</td>\n",
              "      <td>120.0</td>\n",
              "      <td>2021</td>\n",
              "      <td>Soccer</td>\n",
              "    </tr>\n",
              "    <tr>\n",
              "      <th>3</th>\n",
              "      <td>Dak Prescott</td>\n",
              "      <td>107.5</td>\n",
              "      <td>2021</td>\n",
              "      <td>Football</td>\n",
              "    </tr>\n",
              "    <tr>\n",
              "      <th>4</th>\n",
              "      <td>LeBron James</td>\n",
              "      <td>96.5</td>\n",
              "      <td>2021</td>\n",
              "      <td>Basketball</td>\n",
              "    </tr>\n",
              "    <tr>\n",
              "      <th>...</th>\n",
              "      <td>...</td>\n",
              "      <td>...</td>\n",
              "      <td>...</td>\n",
              "      <td>...</td>\n",
              "    </tr>\n",
              "    <tr>\n",
              "      <th>1045</th>\n",
              "      <td>Paul Pierce</td>\n",
              "      <td>21.8</td>\n",
              "      <td>2010</td>\n",
              "      <td>Basketball</td>\n",
              "    </tr>\n",
              "    <tr>\n",
              "      <th>1046</th>\n",
              "      <td>CC Sabathia</td>\n",
              "      <td>21.4</td>\n",
              "      <td>2010</td>\n",
              "      <td>Baseball</td>\n",
              "    </tr>\n",
              "    <tr>\n",
              "      <th>1047</th>\n",
              "      <td>Matthew Stafford</td>\n",
              "      <td>21.4</td>\n",
              "      <td>2010</td>\n",
              "      <td>Football</td>\n",
              "    </tr>\n",
              "    <tr>\n",
              "      <th>1048</th>\n",
              "      <td>Vince Carter</td>\n",
              "      <td>21.3</td>\n",
              "      <td>2010</td>\n",
              "      <td>Basketball</td>\n",
              "    </tr>\n",
              "    <tr>\n",
              "      <th>1049</th>\n",
              "      <td>Lance Armstrong</td>\n",
              "      <td>21.0</td>\n",
              "      <td>2010</td>\n",
              "      <td>Cycling</td>\n",
              "    </tr>\n",
              "  </tbody>\n",
              "</table>\n",
              "<p>1050 rows × 4 columns</p>\n",
              "</div>"
            ],
            "text/plain": [
              "                   Name  Earnings  Year               Sport\n",
              "0        Conor McGregor     180.0  2021  Mixed Martial Arts\n",
              "1          Lionel Messi     130.0  2021              Soccer\n",
              "2     Cristiano Ronaldo     120.0  2021              Soccer\n",
              "3          Dak Prescott     107.5  2021            Football\n",
              "4          LeBron James      96.5  2021          Basketball\n",
              "...                 ...       ...   ...                 ...\n",
              "1045        Paul Pierce      21.8  2010          Basketball\n",
              "1046        CC Sabathia      21.4  2010            Baseball\n",
              "1047   Matthew Stafford      21.4  2010            Football\n",
              "1048       Vince Carter      21.3  2010          Basketball\n",
              "1049    Lance Armstrong      21.0  2010             Cycling\n",
              "\n",
              "[1050 rows x 4 columns]"
            ]
          },
          "metadata": {},
          "execution_count": 5
        }
      ]
    },
    {
      "cell_type": "markdown",
      "metadata": {
        "id": "WviT2zNe5qw7"
      },
      "source": [
        ""
      ]
    },
    {
      "cell_type": "code",
      "metadata": {
        "id": "L84Kbvos5q7F"
      },
      "source": [
        ""
      ],
      "execution_count": null,
      "outputs": []
    },
    {
      "cell_type": "markdown",
      "metadata": {
        "id": "-F5rZGvAJObB"
      },
      "source": [
        "##Total income for each sport\n",
        "스포츠 종류별로 각 선수들의 수입을 합하고 각 스포츠별로 어느 정도의 수입을 기록했는지 오름차순으로 정렬하여 보기 쉽게 정리한다.\n",
        "\n",
        "\n"
      ]
    },
    {
      "cell_type": "code",
      "metadata": {
        "id": "HN6_h9pR0Kmi",
        "colab": {
          "base_uri": "https://localhost:8080/"
        },
        "outputId": "eb8bcc26-1b9b-43c6-e720-8a9e936f5f6f"
      },
      "source": [
        "df.groupby(['Sport'], sort=True)['Earnings'].sum().sort_values()"
      ],
      "execution_count": 15,
      "outputs": [
        {
          "output_type": "execute_result",
          "data": {
            "text/plain": [
              "Sport\n",
              "Cycling                 21.0\n",
              "MMA                     56.0\n",
              "Track                  186.4\n",
              "Cricket                256.6\n",
              "Mixed Martial Arts     374.0\n",
              "Racing                1985.3\n",
              "Boxing                2103.8\n",
              "Golf                  2225.9\n",
              "Tennis                2398.9\n",
              "Baseball              4659.5\n",
              "Soccer                4969.7\n",
              "Football              6546.2\n",
              "Basketball            8845.6\n",
              "Name: Earnings, dtype: float64"
            ]
          },
          "metadata": {},
          "execution_count": 15
        }
      ]
    },
    {
      "cell_type": "markdown",
      "metadata": {
        "id": "WtM5nhMkJPDf"
      },
      "source": [
        "##Average income of the players\n",
        "각 스포츠별로 해당 스포츠에 속한 선수들의 평균 수입을 알아본다. (bar plot 사용)"
      ]
    },
    {
      "cell_type": "code",
      "metadata": {
        "id": "QzHvUhIL0Krp",
        "colab": {
          "base_uri": "https://localhost:8080/",
          "height": 529
        },
        "outputId": "6de4fb3a-2b6b-4efc-af15-ed5d545e48fd"
      },
      "source": [
        "plt.figure(figsize = (30, 8))\n",
        "\n",
        "plt.title(\"Average income of the players\", size=25)\n",
        "plt.xticks(fontsize=12)\n",
        "plt.ylabel('Earnings', size=15)\n",
        "sports = df.groupby('Sport')['Earnings'].mean().sort_values(ascending=False)\n",
        "sport_kind = [sport for sport in sports.index]\n",
        "sns.barplot(x=sport_kind, y=sports)"
      ],
      "execution_count": 16,
      "outputs": [
        {
          "output_type": "execute_result",
          "data": {
            "text/plain": [
              "<matplotlib.axes._subplots.AxesSubplot at 0x7f3cdc5b9fd0>"
            ]
          },
          "metadata": {},
          "execution_count": 16
        },
        {
          "output_type": "display_data",
          "data": {
            "image/png": "[encoded data removed]",
            "text/plain": [
              "<Figure size 2160x576 with 1 Axes>"
            ]
          },
          "metadata": {
            "needs_background": "light"
          }
        }
      ]
    },
    {
      "cell_type": "markdown",
      "metadata": {
        "id": "aZQBdzWXJPe0"
      },
      "source": [
        "##The income of the top 5 players\n",
        "2010년부터 2021년까지의 선수들의 총 수입을 구한다."
      ]
    },
    {
      "cell_type": "code",
      "metadata": {
        "colab": {
          "base_uri": "https://localhost:8080/"
        },
        "id": "S7vvqoc_XVAK",
        "outputId": "2016b537-e35e-4bdb-96f0-921d2b894e31"
      },
      "source": [
        "df.groupby('Name')['Earnings'].sum().sort_values()"
      ],
      "execution_count": 13,
      "outputs": [
        {
          "output_type": "execute_result",
          "data": {
            "text/plain": [
              "Name\n",
              "Samuel Etoo           16.4\n",
              "AJ Burnett            16.6\n",
              "Jake Peavy            16.6\n",
              "Brandon Roy           16.6\n",
              "Rolando McClain       16.7\n",
              "                     ...  \n",
              "LeBron James         820.5\n",
              "Roger Federer        836.1\n",
              "Lionel Messi         911.5\n",
              "Floyd Mayweather     918.0\n",
              "Cristiano Ronaldo    942.9\n",
              "Name: Earnings, Length: 372, dtype: float64"
            ]
          },
          "metadata": {},
          "execution_count": 13
        }
      ]
    },
    {
      "cell_type": "markdown",
      "metadata": {
        "id": "twp6GBwL0Tp9"
      },
      "source": [
        "위에서 구한 선수들의 총 수입을 가지고 상위 5명의 정보를 그래프로 나타낸다. (bar plot 사용)"
      ]
    },
    {
      "cell_type": "code",
      "metadata": {
        "id": "p2HCssgC0KpN",
        "colab": {
          "base_uri": "https://localhost:8080/",
          "height": 408
        },
        "outputId": "beb1b115-ab6c-4d18-f661-3737a25766ee"
      },
      "source": [
        "athlete_income = df.groupby('Name')['Earnings'].sum().sort_values()[367:372]\n",
        "colors = sns.color_palette('hls', 5)\n",
        "athlete_income.plot(kind='barh', figsize=(11, 6), title='Top 5 Athletes Income Rank', color=colors)"
      ],
      "execution_count": 24,
      "outputs": [
        {
          "output_type": "execute_result",
          "data": {
            "text/plain": [
              "<matplotlib.axes._subplots.AxesSubplot at 0x7f3cdc2727d0>"
            ]
          },
          "metadata": {},
          "execution_count": 24
        },
        {
          "output_type": "display_data",
          "data": {
            "image/png": "[encoded data removed]",
            "text/plain": [
              "<Figure size 792x432 with 1 Axes>"
            ]
          },
          "metadata": {
            "needs_background": "light"
          }
        }
      ]
    },
    {
      "cell_type": "markdown",
      "metadata": {
        "id": "errC90wrJQIp"
      },
      "source": [
        "##Changes in the players' income over the past 10 years\n",
        "자신이 알고싶은 특정 선수의 10년간의 수입 변화를 나타낸다.\n",
        "line plot"
      ]
    },
    {
      "cell_type": "code",
      "metadata": {
        "id": "9wJA6IOY0KuE"
      },
      "source": [
        ""
      ],
      "execution_count": null,
      "outputs": []
    },
    {
      "cell_type": "markdown",
      "metadata": {
        "id": "uxpwEt4TJQt0"
      },
      "source": [
        "##Information on the player's income with the highest income\n",
        "각 해마다 수입이 가장 많은 선수의 수입 정보를 그래프로 나타낸다.\n",
        "bar plot"
      ]
    },
    {
      "cell_type": "code",
      "metadata": {
        "id": "n4czpN8J0KwH"
      },
      "source": [
        ""
      ],
      "execution_count": null,
      "outputs": []
    },
    {
      "cell_type": "markdown",
      "metadata": {
        "id": "zUO-zA5Nl12W"
      },
      "source": [
        "##The sports type of player who earned the most income & Percentage of each sport\n",
        "각 해마다 가장 많은 수입을 기록한 선수의 스포츠 종류를 종합해보고 그 중에서 각 스포츠의 비율이 어떻게 되는지 나타낸다.\n",
        "pie plot"
      ]
    },
    {
      "cell_type": "code",
      "metadata": {
        "id": "Tm1zeyZb0KyN"
      },
      "source": [
        ""
      ],
      "execution_count": null,
      "outputs": []
    }
  ]
}