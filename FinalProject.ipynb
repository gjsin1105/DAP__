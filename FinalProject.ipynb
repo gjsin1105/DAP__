{
  "nbformat": 4,
  "nbformat_minor": 0,
  "metadata": {
    "colab": {
      "name": "FinalProject.ipynb",
      "provenance": [],
      "collapsed_sections": [],
      "authorship_tag": "ABX9TyPIIZ733+FjYWyDxvC+cK8j",
      "include_colab_link": true
    },
    "kernelspec": {
      "name": "python3",
      "display_name": "Python 3"
    },
    "language_info": {
      "name": "python"
    }
  },
  "cells": [
    {
      "cell_type": "markdown",
      "metadata": {
        "id": "view-in-github",
        "colab_type": "text"
      },
      "source": [
        "<a href=\"https://colab.research.google.com/github/gjsin1105/DAP__/blob/main/FinalProject.ipynb\" target=\"_parent\"><img src=\"https://colab.research.google.com/assets/colab-badge.svg\" alt=\"Open In Colab\"/></a>"
      ]
    },
    {
      "cell_type": "markdown",
      "metadata": {
        "id": "d1M6BvNOSSja"
      },
      "source": [
        "## 2000년부터 2021년까지 선수들의 수입 비교"
      ]
    },
    {
      "cell_type": "markdown",
      "metadata": {
        "id": "BO_HfH-ZOKsh"
      },
      "source": [
        "* 수입(Earnings)의 기본 단위는 백만달러(million of $)이다.\n",
        "* 13종류의 스포츠가 있으며 각 스포츠별로 속한 선수의 수가 천차만별일 수도 있다.\n",
        "* 2001년도 선수들의 수입정보는 없다."
      ]
    },
    {
      "cell_type": "markdown",
      "metadata": {
        "id": "u5Tj86wi6ZIT"
      },
      "source": [
        "##Import Libraries"
      ]
    },
    {
      "cell_type": "code",
      "metadata": {
        "id": "UJOPhdZj0JnX"
      },
      "source": [
        "import numpy as np\n",
        "import pandas as pd\n",
        "import matplotlib.pyplot as plt\n",
        "import seaborn as sns"
      ],
      "execution_count": 2,
      "outputs": []
    },
    {
      "cell_type": "markdown",
      "metadata": {
        "id": "3aYIE8pmkp-7"
      },
      "source": [
        "##Get the Data\n",
        "각 스포츠별로 선수들의 수입을 저장한 데이터를 가져온다."
      ]
    },
    {
      "cell_type": "code",
      "metadata": {
        "colab": {
          "base_uri": "https://localhost:8080/",
          "height": 424
        },
        "id": "TMe9OUAv0KSM",
        "outputId": "52c2e761-4ea8-475b-8738-9c34371db376"
      },
      "source": [
        "df = pd.read_csv('athlete/athletesv.csv')\n",
        "df"
      ],
      "execution_count": 4,
      "outputs": [
        {
          "output_type": "execute_result",
          "data": {
            "text/html": [
              "<div>\n",
              "<style scoped>\n",
              "    .dataframe tbody tr th:only-of-type {\n",
              "        vertical-align: middle;\n",
              "    }\n",
              "\n",
              "    .dataframe tbody tr th {\n",
              "        vertical-align: top;\n",
              "    }\n",
              "\n",
              "    .dataframe thead th {\n",
              "        text-align: right;\n",
              "    }\n",
              "</style>\n",
              "<table border=\"1\" class=\"dataframe\">\n",
              "  <thead>\n",
              "    <tr style=\"text-align: right;\">\n",
              "      <th></th>\n",
              "      <th>Name</th>\n",
              "      <th>Earnings</th>\n",
              "      <th>Year</th>\n",
              "      <th>Sport</th>\n",
              "    </tr>\n",
              "  </thead>\n",
              "  <tbody>\n",
              "    <tr>\n",
              "      <th>0</th>\n",
              "      <td>Conor McGregor</td>\n",
              "      <td>180.0</td>\n",
              "      <td>2021</td>\n",
              "      <td>Mixed Martial Arts</td>\n",
              "    </tr>\n",
              "    <tr>\n",
              "      <th>1</th>\n",
              "      <td>Lionel Messi</td>\n",
              "      <td>130.0</td>\n",
              "      <td>2021</td>\n",
              "      <td>Soccer</td>\n",
              "    </tr>\n",
              "    <tr>\n",
              "      <th>2</th>\n",
              "      <td>Cristiano Ronaldo</td>\n",
              "      <td>120.0</td>\n",
              "      <td>2021</td>\n",
              "      <td>Soccer</td>\n",
              "    </tr>\n",
              "    <tr>\n",
              "      <th>3</th>\n",
              "      <td>Dak Prescott</td>\n",
              "      <td>107.5</td>\n",
              "      <td>2021</td>\n",
              "      <td>Football</td>\n",
              "    </tr>\n",
              "    <tr>\n",
              "      <th>4</th>\n",
              "      <td>LeBron James</td>\n",
              "      <td>96.5</td>\n",
              "      <td>2021</td>\n",
              "      <td>Basketball</td>\n",
              "    </tr>\n",
              "    <tr>\n",
              "      <th>...</th>\n",
              "      <td>...</td>\n",
              "      <td>...</td>\n",
              "      <td>...</td>\n",
              "      <td>...</td>\n",
              "    </tr>\n",
              "    <tr>\n",
              "      <th>1280</th>\n",
              "      <td>Martina Hingis</td>\n",
              "      <td>11.0</td>\n",
              "      <td>2000</td>\n",
              "      <td>Tennis</td>\n",
              "    </tr>\n",
              "    <tr>\n",
              "      <th>1281</th>\n",
              "      <td>Anna Kournikova</td>\n",
              "      <td>10.0</td>\n",
              "      <td>2000</td>\n",
              "      <td>Tennis</td>\n",
              "    </tr>\n",
              "    <tr>\n",
              "      <th>1282</th>\n",
              "      <td>Venus Williams</td>\n",
              "      <td>10.0</td>\n",
              "      <td>2000</td>\n",
              "      <td>Tennis</td>\n",
              "    </tr>\n",
              "    <tr>\n",
              "      <th>1283</th>\n",
              "      <td>Serena Williams</td>\n",
              "      <td>7.5</td>\n",
              "      <td>2000</td>\n",
              "      <td>Tennis</td>\n",
              "    </tr>\n",
              "    <tr>\n",
              "      <th>1284</th>\n",
              "      <td>Lindsay Davenport</td>\n",
              "      <td>6.0</td>\n",
              "      <td>2000</td>\n",
              "      <td>Tennis</td>\n",
              "    </tr>\n",
              "  </tbody>\n",
              "</table>\n",
              "<p>1285 rows × 4 columns</p>\n",
              "</div>"
            ],
            "text/plain": [
              "                   Name  Earnings  Year               Sport\n",
              "0        Conor McGregor     180.0  2021  Mixed Martial Arts\n",
              "1          Lionel Messi     130.0  2021              Soccer\n",
              "2     Cristiano Ronaldo     120.0  2021              Soccer\n",
              "3          Dak Prescott     107.5  2021            Football\n",
              "4          LeBron James      96.5  2021          Basketball\n",
              "...                 ...       ...   ...                 ...\n",
              "1280     Martina Hingis      11.0  2000              Tennis\n",
              "1281    Anna Kournikova      10.0  2000              Tennis\n",
              "1282     Venus Williams      10.0  2000              Tennis\n",
              "1283    Serena Williams       7.5  2000              Tennis\n",
              "1284  Lindsay Davenport       6.0  2000              Tennis\n",
              "\n",
              "[1285 rows x 4 columns]"
            ]
          },
          "metadata": {},
          "execution_count": 4
        }
      ]
    },
    {
      "cell_type": "markdown",
      "metadata": {
        "id": "WviT2zNe5qw7"
      },
      "source": [
        "##The number of athletes in each sport\n",
        "각 스포츠별로 해당 스포츠에 속하는 선수의 수가 어느정도인지 알아본다."
      ]
    },
    {
      "cell_type": "code",
      "metadata": {
        "colab": {
          "base_uri": "https://localhost:8080/"
        },
        "id": "L84Kbvos5q7F",
        "outputId": "02f0e761-80dd-4f05-8180-0756b57c0b7f"
      },
      "source": [
        "df[\"Sport\"].value_counts()"
      ],
      "execution_count": 5,
      "outputs": [
        {
          "output_type": "execute_result",
          "data": {
            "text/plain": [
              "Basketball            337\n",
              "Football              226\n",
              "Baseball              226\n",
              "Soccer                144\n",
              "Tennis                 98\n",
              "Racing                 93\n",
              "Golf                   85\n",
              "Boxing                 50\n",
              "Cricket                10\n",
              "Track                   7\n",
              "Mixed Martial Arts      4\n",
              "Cycling                 3\n",
              "MMA                     2\n",
              "Name: Sport, dtype: int64"
            ]
          },
          "metadata": {},
          "execution_count": 5
        }
      ]
    },
    {
      "cell_type": "markdown",
      "metadata": {
        "id": "-F5rZGvAJObB"
      },
      "source": [
        "##Total earnings for each sport\n",
        "스포츠 종류별로 해당 스포츠에 속한 선수들의 수입을 합하고 각 스포츠별로 어느 정도의 수입을 기록했는지 오름차순으로 정렬한다.\n",
        "\n",
        "\n"
      ]
    },
    {
      "cell_type": "code",
      "metadata": {
        "id": "HN6_h9pR0Kmi",
        "colab": {
          "base_uri": "https://localhost:8080/"
        },
        "outputId": "fb62fa76-7402-47c2-c6fa-2bb804658e82"
      },
      "source": [
        "sport_total = df.groupby('Sport')['Earnings'].sum().sort_values()\n",
        "sport_total"
      ],
      "execution_count": 6,
      "outputs": [
        {
          "output_type": "execute_result",
          "data": {
            "text/plain": [
              "Sport\n",
              "MMA                      56.0\n",
              "Cycling                  68.2\n",
              "Track                   186.4\n",
              "Cricket                 256.6\n",
              "Mixed Martial Arts      374.0\n",
              "Boxing                 2523.4\n",
              "Tennis                 2958.7\n",
              "Racing                 3014.6\n",
              "Golf                   3459.4\n",
              "Baseball               5339.1\n",
              "Soccer                 5382.5\n",
              "Football               6909.9\n",
              "Basketball            10504.8\n",
              "Name: Earnings, dtype: float64"
            ]
          },
          "metadata": {},
          "execution_count": 6
        }
      ]
    },
    {
      "cell_type": "markdown",
      "metadata": {
        "id": "WtM5nhMkJPDf"
      },
      "source": [
        "##Average earnings for each sport\n",
        "각 스포츠가 기록한 총 수입을 가지고 스포츠별로 평균 수입이 어느정도인지 비교한다.\n",
        "(bar plot 사용)"
      ]
    },
    {
      "cell_type": "code",
      "metadata": {
        "id": "QzHvUhIL0Krp",
        "colab": {
          "base_uri": "https://localhost:8080/",
          "height": 460
        },
        "outputId": "187948d8-fba4-4a2e-ff76-f7aa8eaf6c7d"
      },
      "source": [
        "plt.figure(figsize=(25, 7))\n",
        "plt.title(\"Average earnings for each sport\", size=30)\n",
        "plt.xticks(fontsize=12)\n",
        "plt.ylabel('Earnings', size=15)\n",
        "x = [0, 1, 2, 3, 4, 5, 6, 7, 8, 9, 10, 11, 12]\n",
        "avgtotal = df.groupby('Sport')['Earnings'].mean().round(3).sort_values(ascending=False)\n",
        "for i, v in enumerate(x):\n",
        "    plt.text(v, avgtotal[i], avgtotal[i],\n",
        "             fontsize=12, \n",
        "             color='black',\n",
        "             horizontalalignment='center',\n",
        "             verticalalignment='bottom')\n",
        "sport_kind = [sport for sport in avgtotal.index]\n",
        "sns.barplot(x=sport_kind, y=avgtotal)\n",
        "plt.grid(False)\n",
        "plt.show()"
      ],
      "execution_count": 20,
      "outputs": [
        {
          "output_type": "display_data",
          "data": {
            "image/png": "[encoded data removed]",
            "text/plain": [
              "<Figure size 1800x504 with 1 Axes>"
            ]
          },
          "metadata": {
            "needs_background": "light"
          }
        }
      ]
    },
    {
      "cell_type": "markdown",
      "metadata": {
        "id": "aZQBdzWXJPe0"
      },
      "source": [
        "##The earnings of the top 5 athletes\n",
        "2010년부터 2021년까지의 선수들 개인의 총 수입을 구하고 오름차순으로 정렬한다."
      ]
    },
    {
      "cell_type": "code",
      "metadata": {
        "colab": {
          "base_uri": "https://localhost:8080/"
        },
        "id": "S7vvqoc_XVAK",
        "outputId": "ff9c5fa0-768c-4774-99ed-7f82e35f2a5b"
      },
      "source": [
        "athlete_total = df.groupby('Name')['Earnings'].sum().sort_values()\n",
        "athlete_total"
      ],
      "execution_count": 8,
      "outputs": [
        {
          "output_type": "execute_result",
          "data": {
            "text/plain": [
              "Name\n",
              "Jennifer Capriati       6.0\n",
              "Danica Patrick          7.0\n",
              "Lorena Ochoa           10.0\n",
              "Ana Ivanovic           10.0\n",
              "Lindsay Davenport      12.0\n",
              "                      ...  \n",
              "Lionel Messi          911.5\n",
              "Roger Federer         933.1\n",
              "Cristiano Ronaldo     942.9\n",
              "Floyd Mayweather      944.5\n",
              "Tiger Woods          1523.5\n",
              "Name: Earnings, Length: 429, dtype: float64"
            ]
          },
          "metadata": {},
          "execution_count": 8
        }
      ]
    },
    {
      "cell_type": "markdown",
      "metadata": {
        "id": "twp6GBwL0Tp9"
      },
      "source": [
        "위에서 구한 선수들 개인의 총 수입을 가지고 상위 5명의 정보를 나타낸다.\n",
        "(bar plot 사용)"
      ]
    },
    {
      "cell_type": "code",
      "metadata": {
        "id": "p2HCssgC0KpN",
        "colab": {
          "base_uri": "https://localhost:8080/",
          "height": 396
        },
        "outputId": "13006e14-22fa-4b57-8b25-d349d2a46d88"
      },
      "source": [
        "top = pd.DataFrame(athlete_total)\n",
        "topincome = top.iloc[len(athlete_total)-5:len(athlete_total)+1]\n",
        "plt.rc('font', size=11)\n",
        "plt.rc('axes', titlesize=22)\n",
        "plt.rc('axes', labelsize=15)\n",
        "ax = topincome.plot(kind='barh', figsize=(15, 6), title='Top 5 Athletes Earnings Rank', color='dodgerblue', grid=False)\n",
        "for p in ax.patches:\n",
        "    x, y, width, height = p.get_bbox().bounds\n",
        "    ax.text(width*1.002, y+height/2, \"%.1f\"%(width), va='center')"
      ],
      "execution_count": 24,
      "outputs": [
        {
          "output_type": "display_data",
          "data": {
            "image/png": "[encoded data removed]",
            "text/plain": [
              "<Figure size 1080x432 with 1 Axes>"
            ]
          },
          "metadata": {
            "needs_background": "light"
          }
        }
      ]
    },
    {
      "cell_type": "markdown",
      "metadata": {
        "id": "errC90wrJQIp"
      },
      "source": [
        "##Changes in the athlete's earnings over a specific period of time\n",
        "자신이 궁금해하는 선수의 특정 기간 동안의 수입 변화를 나타낸다.\n",
        "(line plot 사용)"
      ]
    },
    {
      "cell_type": "code",
      "source": [
        "df12 = df.iloc[:1050]\n",
        "df1 = df12.loc[:, ['Name', 'Earnings', 'Year']]\n",
        "df2 = df1.loc[df1['Name']=='Lionel Messi']\n",
        "df3 = df1.loc[df1['Name']=='Tiger Woods']\n",
        "fig = plt.figure(figsize=(17,6))\n",
        "plt.title('Changes in earnings from 2010 to 2021',fontsize=25)\n",
        "plt.xlabel('Year')\n",
        "plt.ylabel('Earnings')\n",
        "sns.lineplot(x=df2['Year'], y=df2['Earnings'], label='Lionel Messi', linewidth=3, color='limegreen', marker=\"o\")\n",
        "sns.lineplot(x=df3['Year'], y=df3['Earnings'], label='Tiger Woods', linewidth=3, color='magenta', marker=\"o\")\n",
        "plt.xticks(np.arange(2010, 2022), ('2010', '2011', '2012', '2013', '2014', '2015', '2016', '2017', '2018', '2019', '2020', '2021'))\n",
        "plt.show()"
      ],
      "metadata": {
        "colab": {
          "base_uri": "https://localhost:8080/",
          "height": 418
        },
        "id": "0nAteADp3Orx",
        "outputId": "00597e76-a610-4a3e-bb9b-a701ddd849ff"
      },
      "execution_count": 23,
      "outputs": [
        {
          "output_type": "display_data",
          "data": {
            "image/png": "[encoded data removed]",
            "text/plain": [
              "<Figure size 1224x432 with 1 Axes>"
            ]
          },
          "metadata": {
            "needs_background": "light"
          }
        }
      ]
    },
    {
      "cell_type": "markdown",
      "metadata": {
        "id": "uxpwEt4TJQt0"
      },
      "source": [
        "##Information about the players with the highest earnings each year\n",
        "기존의 dataframe에서 연도별로 가장 많은 수입을 기록한 선수들의 정보를 가져와서 새로운 dataframe을 만든다."
      ]
    },
    {
      "cell_type": "code",
      "metadata": {
        "id": "n4czpN8J0KwH",
        "colab": {
          "base_uri": "https://localhost:8080/",
          "height": 708
        },
        "outputId": "79a29bcb-cf92-480e-9084-ca7823d5a04a"
      },
      "source": [
        "data2000 = df[df['Year']==2000][:1]\n",
        "data2002 = df[df['Year']==2002][:1]\n",
        "data2003 = df[df['Year']==2003][:1]\n",
        "data2004 = df[df['Year']==2004][:1]\n",
        "data2005 = df[df['Year']==2005][:1]\n",
        "data2006 = df[df['Year']==2006][:1]\n",
        "data2007 = df[df['Year']==2007][:1]\n",
        "data2008 = df[df['Year']==2008][:1]\n",
        "data2009 = df[df['Year']==2009][:1]\n",
        "data2010 = df[df['Year']==2010][:1]\n",
        "data2011 = df[df['Year']==2011][:1]\n",
        "data2012 = df[df['Year']==2012][:1]\n",
        "data2013 = df[df['Year']==2013][:1]\n",
        "data2014 = df[df['Year']==2014][:1]\n",
        "data2015 = df[df['Year']==2015][:1]\n",
        "data2016 = df[df['Year']==2016][:1]\n",
        "data2017 = df[df['Year']==2017][:1]\n",
        "data2018 = df[df['Year']==2018][:1]\n",
        "data2019 = df[df['Year']==2019][:1]\n",
        "data2020 = df[df['Year']==2020][:1]\n",
        "data2021 = df[df['Year']==2021][:1]\n",
        "top_year = pd.concat([data2000, data2002, data2003, data2004, data2005, data2006, data2007, data2008, data2009, data2010, data2011, data2012, data2013, data2014, data2015, data2016, data2017, data2018, data2019, data2020, data2021])\n",
        "top_year"
      ],
      "execution_count": 11,
      "outputs": [
        {
          "output_type": "execute_result",
          "data": {
            "text/html": [
              "<div>\n",
              "<style scoped>\n",
              "    .dataframe tbody tr th:only-of-type {\n",
              "        vertical-align: middle;\n",
              "    }\n",
              "\n",
              "    .dataframe tbody tr th {\n",
              "        vertical-align: top;\n",
              "    }\n",
              "\n",
              "    .dataframe thead th {\n",
              "        text-align: right;\n",
              "    }\n",
              "</style>\n",
              "<table border=\"1\" class=\"dataframe\">\n",
              "  <thead>\n",
              "    <tr style=\"text-align: right;\">\n",
              "      <th></th>\n",
              "      <th>Name</th>\n",
              "      <th>Earnings</th>\n",
              "      <th>Year</th>\n",
              "      <th>Sport</th>\n",
              "    </tr>\n",
              "  </thead>\n",
              "  <tbody>\n",
              "    <tr>\n",
              "      <th>1259</th>\n",
              "      <td>Michael Schumacher</td>\n",
              "      <td>59.0</td>\n",
              "      <td>2000</td>\n",
              "      <td>Racing</td>\n",
              "    </tr>\n",
              "    <tr>\n",
              "      <th>1234</th>\n",
              "      <td>Tiger Woods</td>\n",
              "      <td>69.0</td>\n",
              "      <td>2002</td>\n",
              "      <td>Golf</td>\n",
              "    </tr>\n",
              "    <tr>\n",
              "      <th>1209</th>\n",
              "      <td>Tiger Woods</td>\n",
              "      <td>78.0</td>\n",
              "      <td>2003</td>\n",
              "      <td>Golf</td>\n",
              "    </tr>\n",
              "    <tr>\n",
              "      <th>1159</th>\n",
              "      <td>Tiger Woods</td>\n",
              "      <td>80.3</td>\n",
              "      <td>2004</td>\n",
              "      <td>Golf</td>\n",
              "    </tr>\n",
              "    <tr>\n",
              "      <th>1134</th>\n",
              "      <td>Tiger Woods</td>\n",
              "      <td>87.0</td>\n",
              "      <td>2005</td>\n",
              "      <td>Golf</td>\n",
              "    </tr>\n",
              "    <tr>\n",
              "      <th>1114</th>\n",
              "      <td>Tiger Woods</td>\n",
              "      <td>90.0</td>\n",
              "      <td>2006</td>\n",
              "      <td>Golf</td>\n",
              "    </tr>\n",
              "    <tr>\n",
              "      <th>1089</th>\n",
              "      <td>Tiger Woods</td>\n",
              "      <td>100.0</td>\n",
              "      <td>2007</td>\n",
              "      <td>Golf</td>\n",
              "    </tr>\n",
              "    <tr>\n",
              "      <th>1068</th>\n",
              "      <td>Tiger Woods</td>\n",
              "      <td>115.0</td>\n",
              "      <td>2008</td>\n",
              "      <td>Golf</td>\n",
              "    </tr>\n",
              "    <tr>\n",
              "      <th>1050</th>\n",
              "      <td>Tiger Woods</td>\n",
              "      <td>110.0</td>\n",
              "      <td>2009</td>\n",
              "      <td>Golf</td>\n",
              "    </tr>\n",
              "    <tr>\n",
              "      <th>1000</th>\n",
              "      <td>Tiger Woods</td>\n",
              "      <td>105.0</td>\n",
              "      <td>2010</td>\n",
              "      <td>Golf</td>\n",
              "    </tr>\n",
              "    <tr>\n",
              "      <th>950</th>\n",
              "      <td>Tiger Woods</td>\n",
              "      <td>75.0</td>\n",
              "      <td>2011</td>\n",
              "      <td>Golf</td>\n",
              "    </tr>\n",
              "    <tr>\n",
              "      <th>850</th>\n",
              "      <td>Floyd Mayweather</td>\n",
              "      <td>85.0</td>\n",
              "      <td>2012</td>\n",
              "      <td>Boxing</td>\n",
              "    </tr>\n",
              "    <tr>\n",
              "      <th>750</th>\n",
              "      <td>Tiger Woods</td>\n",
              "      <td>78.1</td>\n",
              "      <td>2013</td>\n",
              "      <td>Golf</td>\n",
              "    </tr>\n",
              "    <tr>\n",
              "      <th>650</th>\n",
              "      <td>Floyd Mayweather</td>\n",
              "      <td>105.0</td>\n",
              "      <td>2014</td>\n",
              "      <td>Boxing</td>\n",
              "    </tr>\n",
              "    <tr>\n",
              "      <th>550</th>\n",
              "      <td>Floyd Mayweather</td>\n",
              "      <td>300.0</td>\n",
              "      <td>2015</td>\n",
              "      <td>Boxing</td>\n",
              "    </tr>\n",
              "    <tr>\n",
              "      <th>450</th>\n",
              "      <td>Cristiano Ronaldo</td>\n",
              "      <td>88.0</td>\n",
              "      <td>2016</td>\n",
              "      <td>Soccer</td>\n",
              "    </tr>\n",
              "    <tr>\n",
              "      <th>350</th>\n",
              "      <td>Cristiano Ronaldo</td>\n",
              "      <td>93.0</td>\n",
              "      <td>2017</td>\n",
              "      <td>Soccer</td>\n",
              "    </tr>\n",
              "    <tr>\n",
              "      <th>250</th>\n",
              "      <td>Floyd Mayweather</td>\n",
              "      <td>285.0</td>\n",
              "      <td>2018</td>\n",
              "      <td>Boxing</td>\n",
              "    </tr>\n",
              "    <tr>\n",
              "      <th>150</th>\n",
              "      <td>Lionel Messi</td>\n",
              "      <td>127.0</td>\n",
              "      <td>2019</td>\n",
              "      <td>Soccer</td>\n",
              "    </tr>\n",
              "    <tr>\n",
              "      <th>50</th>\n",
              "      <td>Roger Federer</td>\n",
              "      <td>106.3</td>\n",
              "      <td>2020</td>\n",
              "      <td>Tennis</td>\n",
              "    </tr>\n",
              "    <tr>\n",
              "      <th>0</th>\n",
              "      <td>Conor McGregor</td>\n",
              "      <td>180.0</td>\n",
              "      <td>2021</td>\n",
              "      <td>Mixed Martial Arts</td>\n",
              "    </tr>\n",
              "  </tbody>\n",
              "</table>\n",
              "</div>"
            ],
            "text/plain": [
              "                    Name  Earnings  Year               Sport\n",
              "1259  Michael Schumacher      59.0  2000              Racing\n",
              "1234         Tiger Woods      69.0  2002                Golf\n",
              "1209         Tiger Woods      78.0  2003                Golf\n",
              "1159         Tiger Woods      80.3  2004                Golf\n",
              "1134         Tiger Woods      87.0  2005                Golf\n",
              "1114         Tiger Woods      90.0  2006                Golf\n",
              "1089         Tiger Woods     100.0  2007                Golf\n",
              "1068         Tiger Woods     115.0  2008                Golf\n",
              "1050         Tiger Woods     110.0  2009                Golf\n",
              "1000         Tiger Woods     105.0  2010                Golf\n",
              "950          Tiger Woods      75.0  2011                Golf\n",
              "850     Floyd Mayweather      85.0  2012              Boxing\n",
              "750          Tiger Woods      78.1  2013                Golf\n",
              "650     Floyd Mayweather     105.0  2014              Boxing\n",
              "550     Floyd Mayweather     300.0  2015              Boxing\n",
              "450    Cristiano Ronaldo      88.0  2016              Soccer\n",
              "350    Cristiano Ronaldo      93.0  2017              Soccer\n",
              "250     Floyd Mayweather     285.0  2018              Boxing\n",
              "150         Lionel Messi     127.0  2019              Soccer\n",
              "50         Roger Federer     106.3  2020              Tennis\n",
              "0         Conor McGregor     180.0  2021  Mixed Martial Arts"
            ]
          },
          "metadata": {},
          "execution_count": 11
        }
      ]
    },
    {
      "cell_type": "markdown",
      "source": [
        "연도별로 수입순위 1위에 대해서 차이가 어느 정도인지를 알아본다.\n",
        "(bar plot 사용)"
      ],
      "metadata": {
        "id": "21kP_ALdI26n"
      }
    },
    {
      "cell_type": "code",
      "source": [
        "top_year.plot(kind='bar', figsize=(14, 6.5), x='Year', y='Earnings', color='#e35f62')\n",
        "plt.xticks(rotation=0)\n",
        "plt.show()"
      ],
      "metadata": {
        "colab": {
          "base_uri": "https://localhost:8080/",
          "height": 420
        },
        "id": "JS-11dipC2gk",
        "outputId": "3f0bfcc2-e41b-4e5b-f95f-506e7a9d1423"
      },
      "execution_count": 12,
      "outputs": [
        {
          "output_type": "display_data",
          "data": {
            "image/png": "[encoded data removed]",
            "text/plain": [
              "<Figure size 1008x468 with 1 Axes>"
            ]
          },
          "metadata": {
            "needs_background": "light"
          }
        }
      ]
    },
    {
      "cell_type": "markdown",
      "metadata": {
        "id": "zUO-zA5Nl12W"
      },
      "source": [
        "##The sports type of player who earned the most earnings & Percentage\n",
        "연도별로 가장 많은 수입을 기록한 선수의 스포츠 종류를 종합해보고 각 스포츠의 비율이 어떻게 되는지 나타낸다.\n",
        "(pie plot 사용)"
      ]
    },
    {
      "cell_type": "code",
      "source": [
        "sportcount = top_year.value_counts('Sport')\n",
        "fig, ax = plt.subplots(figsize=(6,6))\n",
        "ax.pie(sportcount, labels=['Golf','Boxing','Soccer','Mixed Martial Arts', 'Tennis', 'Racing'],\n",
        "       autopct=\"%1.1f%%\", pctdistance=0.85, explode=(0.05,0.05,0.05,0.05,0.05,0.05))\n",
        "centre_circle = plt.Circle((0,0),0.70,fc='white')\n",
        "fig = plt.gcf()\n",
        "fig.gca().add_artist(centre_circle)\n",
        "ax.axis('equal')\n",
        "plt.show()"
      ],
      "metadata": {
        "colab": {
          "base_uri": "https://localhost:8080/",
          "height": 374
        },
        "id": "QxA0-cJs4ep4",
        "outputId": "ea678891-3436-49a7-c32f-e5a960993205"
      },
      "execution_count": 13,
      "outputs": [
        {
          "output_type": "display_data",
          "data": {
            "image/png": "[encoded data removed]",
            "text/plain": [
              "<Figure size 432x432 with 1 Axes>"
            ]
          },
          "metadata": {}
        }
      ]
    },
    {
      "cell_type": "markdown",
      "source": [
        "## The highest earnings information for each sport\n",
        "2000년부터 2021년의 기간중에 각 스포츠별로 수입이 가장 높은 연도와 선수 정보를 나타낸다."
      ],
      "metadata": {
        "id": "VGP9hK7wgp0l"
      }
    },
    {
      "cell_type": "code",
      "source": [
        "df.loc[df.reset_index().groupby(['Sport'])['Earnings'].idxmax()]"
      ],
      "metadata": {
        "colab": {
          "base_uri": "https://localhost:8080/",
          "height": 457
        },
        "id": "YjFtNfw7gpZo",
        "outputId": "a2347d90-1321-4741-b461-a858ae281528"
      },
      "execution_count": 15,
      "outputs": [
        {
          "output_type": "execute_result",
          "data": {
            "text/html": [
              "<div>\n",
              "<style scoped>\n",
              "    .dataframe tbody tr th:only-of-type {\n",
              "        vertical-align: middle;\n",
              "    }\n",
              "\n",
              "    .dataframe tbody tr th {\n",
              "        vertical-align: top;\n",
              "    }\n",
              "\n",
              "    .dataframe thead th {\n",
              "        text-align: right;\n",
              "    }\n",
              "</style>\n",
              "<table border=\"1\" class=\"dataframe\">\n",
              "  <thead>\n",
              "    <tr style=\"text-align: right;\">\n",
              "      <th></th>\n",
              "      <th>Name</th>\n",
              "      <th>Earnings</th>\n",
              "      <th>Year</th>\n",
              "      <th>Sport</th>\n",
              "    </tr>\n",
              "  </thead>\n",
              "  <tbody>\n",
              "    <tr>\n",
              "      <th>167</th>\n",
              "      <td>Mike Trout</td>\n",
              "      <td>50.6</td>\n",
              "      <td>2019</td>\n",
              "      <td>Baseball</td>\n",
              "    </tr>\n",
              "    <tr>\n",
              "      <th>4</th>\n",
              "      <td>LeBron James</td>\n",
              "      <td>96.5</td>\n",
              "      <td>2021</td>\n",
              "      <td>Basketball</td>\n",
              "    </tr>\n",
              "    <tr>\n",
              "      <th>550</th>\n",
              "      <td>Floyd Mayweather</td>\n",
              "      <td>300.0</td>\n",
              "      <td>2015</td>\n",
              "      <td>Boxing</td>\n",
              "    </tr>\n",
              "    <tr>\n",
              "      <th>765</th>\n",
              "      <td>Mahendra Singh Dhoni</td>\n",
              "      <td>31.5</td>\n",
              "      <td>2013</td>\n",
              "      <td>Cricket</td>\n",
              "    </tr>\n",
              "    <tr>\n",
              "      <th>1142</th>\n",
              "      <td>Lance Armstrong</td>\n",
              "      <td>28.0</td>\n",
              "      <td>2005</td>\n",
              "      <td>Cycling</td>\n",
              "    </tr>\n",
              "    <tr>\n",
              "      <th>3</th>\n",
              "      <td>Dak Prescott</td>\n",
              "      <td>107.5</td>\n",
              "      <td>2021</td>\n",
              "      <td>Football</td>\n",
              "    </tr>\n",
              "    <tr>\n",
              "      <th>1068</th>\n",
              "      <td>Tiger Woods</td>\n",
              "      <td>115.0</td>\n",
              "      <td>2008</td>\n",
              "      <td>Golf</td>\n",
              "    </tr>\n",
              "    <tr>\n",
              "      <th>373</th>\n",
              "      <td>Conor McGregor</td>\n",
              "      <td>34.0</td>\n",
              "      <td>2017</td>\n",
              "      <td>MMA</td>\n",
              "    </tr>\n",
              "    <tr>\n",
              "      <th>0</th>\n",
              "      <td>Conor McGregor</td>\n",
              "      <td>180.0</td>\n",
              "      <td>2021</td>\n",
              "      <td>Mixed Martial Arts</td>\n",
              "    </tr>\n",
              "    <tr>\n",
              "      <th>7</th>\n",
              "      <td>Lewis Hamilton</td>\n",
              "      <td>82.0</td>\n",
              "      <td>2021</td>\n",
              "      <td>Racing</td>\n",
              "    </tr>\n",
              "    <tr>\n",
              "      <th>1</th>\n",
              "      <td>Lionel Messi</td>\n",
              "      <td>130.0</td>\n",
              "      <td>2021</td>\n",
              "      <td>Soccer</td>\n",
              "    </tr>\n",
              "    <tr>\n",
              "      <th>50</th>\n",
              "      <td>Roger Federer</td>\n",
              "      <td>106.3</td>\n",
              "      <td>2020</td>\n",
              "      <td>Tennis</td>\n",
              "    </tr>\n",
              "    <tr>\n",
              "      <th>372</th>\n",
              "      <td>Usain Bolt</td>\n",
              "      <td>34.2</td>\n",
              "      <td>2017</td>\n",
              "      <td>Track</td>\n",
              "    </tr>\n",
              "  </tbody>\n",
              "</table>\n",
              "</div>"
            ],
            "text/plain": [
              "                      Name  Earnings  Year               Sport\n",
              "167             Mike Trout      50.6  2019            Baseball\n",
              "4             LeBron James      96.5  2021          Basketball\n",
              "550       Floyd Mayweather     300.0  2015              Boxing\n",
              "765   Mahendra Singh Dhoni      31.5  2013             Cricket\n",
              "1142       Lance Armstrong      28.0  2005             Cycling\n",
              "3             Dak Prescott     107.5  2021            Football\n",
              "1068           Tiger Woods     115.0  2008                Golf\n",
              "373         Conor McGregor      34.0  2017                 MMA\n",
              "0           Conor McGregor     180.0  2021  Mixed Martial Arts\n",
              "7           Lewis Hamilton      82.0  2021              Racing\n",
              "1             Lionel Messi     130.0  2021              Soccer\n",
              "50           Roger Federer     106.3  2020              Tennis\n",
              "372             Usain Bolt      34.2  2017               Track"
            ]
          },
          "metadata": {},
          "execution_count": 15
        }
      ]
    }
  ]
}